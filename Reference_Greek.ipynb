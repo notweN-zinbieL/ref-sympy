{
 "cells": [
  {
   "cell_type": "code",
   "execution_count": 1,
   "metadata": {},
   "outputs": [],
   "source": [
    "import string"
   ]
  },
  {
   "cell_type": "code",
   "execution_count": 2,
   "metadata": {},
   "outputs": [],
   "source": [
    "import sympy as sym\n",
    "sym.init_printing()"
   ]
  },
  {
   "cell_type": "code",
   "execution_count": 3,
   "metadata": {
    "collapsed": true
   },
   "outputs": [],
   "source": [
    "def myDisp(d): return sym.Matrix(d).transpose() # display lists of values, d, in a matrix"
   ]
  },
  {
   "cell_type": "code",
   "execution_count": 4,
   "metadata": {
    "collapsed": true
   },
   "outputs": [],
   "source": [
    "alpha_numeric = string.ascii_letters + string.digits\n",
    "visible = string.ascii_letters + string.digits + string.punctuation\n",
    "no_escape = string.ascii_letters + string.digits + '!#$%&()*+,-./:;<=>?@[]^_`{|}~'\n",
    "greek = 'αβγδεζηθικλμνξοπρστυφχψω'\n",
    "Greek = 'ΑΒΓΔΕΖΗΘΙΚΛΜΝΞΟΠΡΣΤΥΦΧΨΩ'\n",
    "gGreek = greek + Greek\n",
    "Greek_unique = 'ΓΔΘΛΞΠΣΦΨΩ'\n",
    "gGreek_unique = greek + Greek_unique\n",
    "alpha_numeric_greek = alpha_numeric + gGreek_unique"
   ]
  },
  {
   "cell_type": "code",
   "execution_count": 5,
   "metadata": {},
   "outputs": [
    {
     "name": "stdout",
     "output_type": "stream",
     "text": [
      "ascii_lowercase:    abcdefghijklmnopqrstuvwxyz\n",
      "ascii_uppercase:    ABCDEFGHIJKLMNOPQRSTUVWXYZ\n",
      "ascii_letters:      abcdefghijklmnopqrstuvwxyzABCDEFGHIJKLMNOPQRSTUVWXYZ\n",
      "digits:             0123456789\n",
      "hexdigits:          0123456789abcdefABCDEF\n",
      "octdigits:          01234567\n",
      "alpha_numeric:      abcdefghijklmnopqrstuvwxyzABCDEFGHIJKLMNOPQRSTUVWXYZ0123456789\n",
      "punctuation:        !\"#$%&'()*+,-./:;<=>?@[\\]^_`{|}~\n",
      "visible:            abcdefghijklmnopqrstuvwxyzABCDEFGHIJKLMNOPQRSTUVWXYZ0123456789!\"#$%&'()*+,-./:;<=>?@[\\]^_`{|}~\n",
      "no_escape:          abcdefghijklmnopqrstuvwxyzABCDEFGHIJKLMNOPQRSTUVWXYZ0123456789!#$%&()*+,-./:;<=>?@[]^_`{|}~\n",
      "greek:              αβγδεζηθικλμνξοπρστυφχψω\n",
      "Greek:              ΑΒΓΔΕΖΗΘΙΚΛΜΝΞΟΠΡΣΤΥΦΧΨΩ\n",
      "gGreek:             αβγδεζηθικλμνξοπρστυφχψωΑΒΓΔΕΖΗΘΙΚΛΜΝΞΟΠΡΣΤΥΦΧΨΩ\n",
      "Greek_unique:       ΓΔΘΛΞΠΣΦΨΩ\n",
      "gGreek_unique:      αβγδεζηθικλμνξοπρστυφχψωΓΔΘΛΞΠΣΦΨΩ\n",
      "alpha_numeric_greek abcdefghijklmnopqrstuvwxyzABCDEFGHIJKLMNOPQRSTUVWXYZ0123456789αβγδεζηθικλμνξοπρστυφχψωΓΔΘΛΞΠΣΦΨΩ\n"
     ]
    }
   ],
   "source": [
    "print('ascii_lowercase:    ' + string.ascii_lowercase)\n",
    "print('ascii_uppercase:    ' + string.ascii_uppercase)\n",
    "print('ascii_letters:      ' + string.ascii_letters)\n",
    "print('digits:             ' + string.digits)\n",
    "print('hexdigits:          ' + string.hexdigits)\n",
    "print('octdigits:          ' + string.octdigits)\n",
    "print('alpha_numeric:      ' + alpha_numeric)\n",
    "print('punctuation:        ' + string.punctuation)\n",
    "print('visible:            ' + visible)\n",
    "print('no_escape:          ' + no_escape)\n",
    "print('greek:              ' + greek)\n",
    "print('Greek:              ' + Greek)\n",
    "print('gGreek:             ' + gGreek)\n",
    "print('Greek_unique:       ' + Greek_unique)\n",
    "print('gGreek_unique:      ' + gGreek_unique)\n",
    "print('alpha_numeric_greek ' + alpha_numeric_greek)"
   ]
  },
  {
   "cell_type": "code",
   "execution_count": 6,
   "metadata": {},
   "outputs": [
    {
     "data": {
      "text/latex": [
       "$$\\left[\\begin{array}{cccccccccccccccccccccccccc}a & b & c & d & e & f & g & h & i & j & k & l & m & n & o & p & q & r & s & t & u & v & w & x & y & z\\\\A & B & C & D & E & F & G & H & I & J & K & L & M & N & O & P & Q & R & S & T & U & V & W & X & Y & Z\\end{array}\\right]$$"
      ],
      "text/plain": [
       "⎡a  b  c  d  e  f  g  h  i  j  k  l  m  n  o  p  q  r  s  t  u  v  w  x  y  z⎤\n",
       "⎢                                                                            ⎥\n",
       "⎣A  B  C  D  E  F  G  H  I  J  K  L  M  N  O  P  Q  R  S  T  U  V  W  X  Y  Z⎦"
      ]
     },
     "execution_count": 6,
     "metadata": {},
     "output_type": "execute_result"
    }
   ],
   "source": [
    "myDisp([sym.symbols(i + ', ' + j) for i,j in zip(string.ascii_lowercase, string.ascii_uppercase)])"
   ]
  },
  {
   "cell_type": "code",
   "execution_count": 7,
   "metadata": {},
   "outputs": [
    {
     "data": {
      "text/latex": [
       "$$\\left[\\begin{array}{cccccccccccccccccccccccc}α & β & γ & δ & ε & ζ & η & θ & ι & κ & λ & μ & ν & ξ & ο & π & ρ & σ & τ & υ & φ & χ & ψ & ω\\\\Α & Β & Γ & Δ & Ε & Ζ & Η & Θ & Ι & Κ & Λ & Μ & Ν & Ξ & Ο & Π & Ρ & Σ & Τ & Υ & Φ & Χ & Ψ & Ω\\end{array}\\right]$$"
      ],
      "text/plain": [
       "⎡α  β  γ  δ  ε  ζ  η  θ  ι  κ  λ  μ  ν  ξ  ο  π  ρ  σ  τ  υ  φ  χ  ψ  ω⎤\n",
       "⎢                                                                      ⎥\n",
       "⎣Α  Β  Γ  Δ  Ε  Ζ  Η  Θ  Ι  Κ  Λ  Μ  Ν  Ξ  Ο  Π  Ρ  Σ  Τ  Υ  Φ  Χ  Ψ  Ω⎦"
      ]
     },
     "execution_count": 7,
     "metadata": {},
     "output_type": "execute_result"
    }
   ],
   "source": [
    "myDisp([sym.symbols(i + ', ' + j) for i,j in zip(greek, Greek)])"
   ]
  },
  {
   "cell_type": "code",
   "execution_count": 8,
   "metadata": {},
   "outputs": [],
   "source": [
    "greeks = ['alpha', 'beta', 'gamma', 'delta', 'epsilon', 'zeta', 'eta', 'theta', 'iota', 'kappa', 'lambda', 'lamda',\n",
    "          'mu', 'nu', 'xi', 'omicron', 'pi', 'rho', 'sigma', 'tau', 'upsilon', 'phi', 'chi', 'psi', 'omega']\n",
    "Greeks = [sym.symbols( '{' + i + '}' + ', ' + i + ', ' + i.capitalize() ) for i in greeks] # '{alpha}, alpha, Alpha'"
   ]
  },
  {
   "cell_type": "code",
   "execution_count": 9,
   "metadata": {},
   "outputs": [
    {
     "data": {
      "text/latex": [
       "$$\\left[\\begin{array}{cccccccccccc}{alpha} & {beta} & {gamma} & {delta} & {epsilon} & {zeta} & {eta} & {theta} & {iota} & {kappa} & {lambda} & {lamda}\\\\\\alpha & \\beta & \\gamma & \\delta & \\epsilon & \\zeta & \\eta & \\theta & \\iota & \\kappa & \\lambda & \\lambda\\\\A & B & \\Gamma & \\Delta & E & Z & H & \\Theta & I & K & \\Lambda & \\Lambda\\end{array}\\right]$$"
      ],
      "text/plain": [
       "⎡{alpha}  {beta}  {gamma}  {delta}  {epsilon}  {zeta}  {eta}  {theta}  {iota} \n",
       "⎢                                                                             \n",
       "⎢   α       β        γ        δ         ε        ζ       η       θ       ι    \n",
       "⎢                                                                             \n",
       "⎣   Α       Β        Γ        Δ         Ε        Ζ       Η       Θ       Ι    \n",
       "\n",
       " {kappa}  {lambda}  {lamda}⎤\n",
       "                           ⎥\n",
       "    κ        λ         λ   ⎥\n",
       "                           ⎥\n",
       "    Κ        Λ         Λ   ⎦"
      ]
     },
     "execution_count": 9,
     "metadata": {},
     "output_type": "execute_result"
    }
   ],
   "source": [
    "myDisp(Greeks[:12])"
   ]
  },
  {
   "cell_type": "code",
   "execution_count": 10,
   "metadata": {},
   "outputs": [
    {
     "data": {
      "text/latex": [
       "$$\\left[\\begin{array}{ccccccccccccc}{mu} & {nu} & {xi} & {omicron} & {pi} & {rho} & {sigma} & {tau} & {upsilon} & {phi} & {chi} & {psi} & {omega}\\\\\\mu & \\nu & \\xi & o & \\pi & \\rho & \\sigma & \\tau & \\upsilon & \\phi & \\chi & \\psi & \\omega\\\\M & N & \\Xi & O & \\Pi & P & \\Sigma & T & \\Upsilon & \\Phi & X & \\Psi & \\Omega\\end{array}\\right]$$"
      ],
      "text/plain": [
       "⎡{mu}  {nu}  {xi}  {omicron}  {pi}  {rho}  {sigma}  {tau}  {upsilon}  {phi}  {\n",
       "⎢                                                                             \n",
       "⎢ μ     ν     ξ        ο       π      ρ       σ       τ        υ        φ     \n",
       "⎢                                                                             \n",
       "⎣ Μ     Ν     Ξ        Ο       Π      Ρ       Σ       Τ        Υ        Φ     \n",
       "\n",
       "chi}  {psi}  {omega}⎤\n",
       "                    ⎥\n",
       " χ      ψ       ω   ⎥\n",
       "                    ⎥\n",
       " Χ      Ψ       Ω   ⎦"
      ]
     },
     "execution_count": 10,
     "metadata": {},
     "output_type": "execute_result"
    }
   ],
   "source": [
    "myDisp(Greeks[12:])"
   ]
  },
  {
   "cell_type": "code",
   "execution_count": 11,
   "metadata": {},
   "outputs": [],
   "source": [
    "greeks_alt = ['varepsilon', 'varkappa', 'varphi', 'varpi', 'varrho', 'varsigma', 'vartheta']\n",
    "Greeks_Alt = [sym.symbols('{' + i + '}' + ', ' + i) for i in greeks_alt]"
   ]
  },
  {
   "cell_type": "code",
   "execution_count": 12,
   "metadata": {},
   "outputs": [
    {
     "data": {
      "text/latex": [
       "$$\\left[\\begin{matrix}{varepsilon} & {varkappa} & {varphi} & {varpi} & {varrho} & {varsigma} & {vartheta}\\\\\\varepsilon & \\varkappa & \\varphi & \\varpi & \\varrho & \\varsigma & \\vartheta\\end{matrix}\\right]$$"
      ],
      "text/plain": [
       "⎡{varepsilon}  {varkappa}  {varphi}  {varpi}  {varrho}  {varsigma}  {vartheta}\n",
       "⎢                                                                             \n",
       "⎣ varepsilon    varkappa    varphi    varpi    varrho       ς        vartheta \n",
       "\n",
       "⎤\n",
       "⎥\n",
       "⎦"
      ]
     },
     "execution_count": 12,
     "metadata": {},
     "output_type": "execute_result"
    }
   ],
   "source": [
    "myDisp(Greeks_Alt)"
   ]
  },
  {
   "cell_type": "code",
   "execution_count": 13,
   "metadata": {},
   "outputs": [],
   "source": [
    "others = ['aleph', 'beth', 'daleth', 'gimel', 'ell', 'eth', 'hbar', 'hslash', 'mho', 'wp']\n",
    "Others = [sym.symbols('{' + i + '}' + ', ' + i) for i in others]"
   ]
  },
  {
   "cell_type": "code",
   "execution_count": 14,
   "metadata": {},
   "outputs": [
    {
     "data": {
      "text/latex": [
       "$$\\left[\\begin{matrix}{aleph} & {beth} & {daleth} & {gimel} & {ell} & {eth} & {hbar} & {hslash} & {mho} & {wp}\\\\\\aleph & \\beth & \\daleth & \\gimel & \\ell & \\eth & \\hbar & \\hslash & \\mho & \\wp\\end{matrix}\\right]$$"
      ],
      "text/plain": [
       "⎡{aleph}  {beth}  {daleth}  {gimel}  {ell}  {eth}  {hbar}  {hslash}  {mho}  {w\n",
       "⎢                                                                             \n",
       "⎣ aleph    beth    daleth    gimel    ell    eth     h̅     hslash    mho    w\n",
       "\n",
       "p}⎤\n",
       "  ⎥\n",
       "p ⎦"
      ]
     },
     "execution_count": 14,
     "metadata": {},
     "output_type": "execute_result"
    }
   ],
   "source": [
    "myDisp(Others)"
   ]
  },
  {
   "cell_type": "code",
   "execution_count": null,
   "metadata": {
    "collapsed": true
   },
   "outputs": [],
   "source": []
  }
 ],
 "metadata": {
  "kernelspec": {
   "display_name": "Python 3",
   "language": "python",
   "name": "python3"
  },
  "language_info": {
   "codemirror_mode": {
    "name": "ipython",
    "version": 3
   },
   "file_extension": ".py",
   "mimetype": "text/x-python",
   "name": "python",
   "nbconvert_exporter": "python",
   "pygments_lexer": "ipython3",
   "version": "3.6.1"
  }
 },
 "nbformat": 4,
 "nbformat_minor": 2
}
