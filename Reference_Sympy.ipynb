{
 "cells": [
  {
   "cell_type": "code",
   "execution_count": 1,
   "metadata": {
    "collapsed": true
   },
   "outputs": [],
   "source": [
    "import sympy as sym\n",
    "sym.init_printing(use_latex='mathjax')"
   ]
  },
  {
   "cell_type": "code",
   "execution_count": 2,
   "metadata": {},
   "outputs": [
    {
     "name": "stdout",
     "output_type": "stream",
     "text": [
      "e:\\src\\myUnits\n",
      "(bookmark:cwd) -> E:\\src\n",
      "E:\\src\n"
     ]
    }
   ],
   "source": [
    "from sympy import symbols, Matrix, Rational, sympify\n",
    "\n",
    "%bookmark cwd\n",
    "%cd e:/src/myUnits\n",
    "import myUnits as myu\n",
    "# from myUnits import Deg, Rad\n",
    "%cd -b cwd\n",
    "# import imp\n",
    "# imp.reload(myu)\n"
   ]
  },
  {
   "cell_type": "code",
   "execution_count": 3,
   "metadata": {},
   "outputs": [
    {
     "data": {
      "text/latex": [
       "$$\\left ( \\color{lightgreen}{True}, \\quad \\color{red}{False}, \\quad \\color{lightgreen}{True}, \\quad \\color{red}{False}\\right )$$"
      ],
      "text/plain": [
       "(\\color{lightgreen}{True}, \\color{red}{False}, \\color{lightgreen}{True}, \\colo\n",
       "r{red}{False})"
      ]
     },
     "execution_count": 3,
     "metadata": {},
     "output_type": "execute_result"
    }
   ],
   "source": [
    "def myDisp(d): return Matrix(d).transpose() # display lists of values, d, in a matrix\n",
    "def mySym(sym, hue='blue', b=True):\n",
    "    S = '\\color{#hue}#ob#sym#cb'\n",
    "    S = S.replace('#hue', hue)\n",
    "    if b == True: # ob:opening bracket, cb:closing braket\n",
    "        S = S.replace('#ob', '{').replace('#cb', '}')\n",
    "    else:\n",
    "        S = S.replace('#ob', '').replace('#cb', '')\n",
    "    S = S.replace('#sym', sym) + ' '\n",
    "    return S\n",
    "def myTF(x):\n",
    "    if x:\n",
    "        return symbols('\\color{lightgreen}{True}')\n",
    "    else:\n",
    "        return symbols('\\color{red}{False}')\n",
    "def myEq(x,y):\n",
    "    # https://github.com/sympy/sympy/wiki/Faq#why-does-sympy-say-that-two-equal-expressions-are-unequal\n",
    "    z1 = sym.sympify(x - y).simplify() == 0\n",
    "    z2 = sym.sympify(x).equals(y)\n",
    "    return myTF( max(z1,z2) )\n",
    "myEq(1,1), myEq(1,0), myTF(1), myTF(0)"
   ]
  },
  {
   "cell_type": "code",
   "execution_count": 4,
   "metadata": {},
   "outputs": [
    {
     "data": {
      "text/latex": [
       "$$\\left ( 0.3, \\quad 0.3, \\quad \\frac{3}{10}, \\quad \\frac{5404319552844595}{18014398509481984}, \\quad \\frac{3}{10}, \\quad \\frac{3}{10}\\right )$$"
      ],
      "text/plain": [
       "⎛                 5404319552844595            ⎞\n",
       "⎜0.3, 0.3, 3/10, ─────────────────, 3/10, 3/10⎟\n",
       "⎝                18014398509481984            ⎠"
      ]
     },
     "execution_count": 4,
     "metadata": {},
     "output_type": "execute_result"
    }
   ],
   "source": [
    ".3, 3/10, Rational(3,10), Rational(.3), Rational('.3'), Rational(str(.3))"
   ]
  },
  {
   "cell_type": "code",
   "execution_count": 5,
   "metadata": {},
   "outputs": [
    {
     "data": {
      "text/latex": [
       "$$\\left [ \\left [ 1, \\quad 2, \\quad 3\\right ], \\quad \\left [ 4, \\quad 5, \\quad 6\\right ], \\quad \\left [ 7, \\quad 8, \\quad 9\\right ]\\right ]$$"
      ],
      "text/plain": [
       "[[1, 2, 3], [4, 5, 6], [7, 8, 9]]"
      ]
     },
     "execution_count": 5,
     "metadata": {},
     "output_type": "execute_result"
    }
   ],
   "source": [
    "[[1,2,3], [4,5,6]] + [[7,8,9]]"
   ]
  },
  {
   "cell_type": "code",
   "execution_count": 6,
   "metadata": {
    "collapsed": true
   },
   "outputs": [],
   "source": [
    "from sympy import pi\n",
    "import sympy.physics.units as u\n",
    "from sympy.physics.units import deg, rad\n",
    "#u.find_unit(u.time)"
   ]
  },
  {
   "cell_type": "code",
   "execution_count": 7,
   "metadata": {},
   "outputs": [
    {
     "data": {
      "text/latex": [
       "$$\\left ( \\left[\\begin{matrix}\\color{green}{inch} & \\color{green}{ft} & \\color{green}{lb} & \\color{green}{m} & \\color{green}{kg} & \\color{green}{N} & \\color{green}{s}\\\\\\frac{127 m}{5000} & \\frac{381 m}{1250} & \\frac{4.4482216152605 kg}{s^{2}} m & m & kg & \\frac{kg m}{s^{2}} & s\\end{matrix}\\right], \\quad \\left[\\begin{matrix}\\color{green}{m} & \\color{green}{m} & \\color{green}{N}\\\\\\frac{5000 \\color{green}{inch}}{127} & \\frac{1250 \\color{green}{ft}}{381} & 0.224808943099711 \\color{green}{lb}\\end{matrix}\\right], \\quad \\frac{4.4482216152605 kg}{s^{2}} m\\right )$$"
      ],
      "text/plain": [
       "⎛                                                                             \n",
       "⎜⎡\\color{green}{inch}  \\color{green}{ft}   \\color{green}{lb}    \\color{green}{\n",
       "⎜⎢                                                                            \n",
       "⎜⎢       127⋅m               381⋅m        4.4482216152605⋅kg⋅m                \n",
       "⎜⎢       ─────               ─────        ────────────────────         m      \n",
       "⎜⎢        5000                1250                  2                         \n",
       "⎝⎣                                                 s                          \n",
       "\n",
       "                                                                              \n",
       "m}  \\color{green}{kg}  \\color{green}{N}  \\color{green}{s}⎤, ⎡    \\color{green}\n",
       "                                                         ⎥  ⎢                 \n",
       "                             kg⋅m                        ⎥  ⎢5000⋅\\color{green\n",
       "           kg                ────               s        ⎥  ⎢─────────────────\n",
       "                               2                         ⎥  ⎣          127    \n",
       "                              s                          ⎦                    \n",
       "\n",
       "                                                                       4.44822\n",
       "{m}         \\color{green}{m}              \\color{green}{N}          ⎤, ───────\n",
       "                                                                    ⎥         \n",
       "}{inch}  1250⋅\\color{green}{ft}                                     ⎥         \n",
       "───────  ──────────────────────  0.224808943099711⋅\\color{green}{lb}⎥         \n",
       "                  381                                               ⎦         \n",
       "                                                                              \n",
       "\n",
       "16152605⋅kg⋅m⎞\n",
       "─────────────⎟\n",
       "   2         ⎟\n",
       "  s          ⎟\n",
       "             ⎟\n",
       "             ⎟\n",
       "             ⎠"
      ]
     },
     "execution_count": 7,
     "metadata": {},
     "output_type": "execute_result"
    }
   ],
   "source": [
    "inch = symbols( mySym('inch', hue='green' ), constant=True )\n",
    "ft   = symbols( mySym('ft',   hue='green' ), constant=True )\n",
    "lb   = symbols( mySym('lb',   hue='green' ), constant=True )\n",
    "m    = symbols( mySym('m',    hue='green' ), constant=True )\n",
    "kg   = symbols( mySym('kg',   hue='green' ), constant=True )\n",
    "N    = symbols( mySym('N',    hue='green' ), constant=True )\n",
    "s    = symbols( mySym('s',    hue='green' ), constant=True )\n",
    "toMetric = [[inch, u.inch], [ft, u.ft], [lb, u.pound], [m, u.m], [kg, u.kg], [N, u.N], [s, u.second]]\n",
    "m_to_inch = [m, inch*u.m/u.inch]\n",
    "m_to_ft   = [m, ft*u.m/u.ft]\n",
    "N_to_lb   = [N, lb*u.N/u.pound]\n",
    "myDisp(toMetric), myDisp([m_to_inch, m_to_ft, N_to_lb]), u.pound"
   ]
  },
  {
   "cell_type": "code",
   "execution_count": 8,
   "metadata": {},
   "outputs": [
    {
     "data": {
      "text/latex": [
       "$$\\left ( \\left[\\begin{matrix}\\color{blue}{\\underline{inch}} & \\color{blue}{\\underline{ft}} & \\color{blue}{\\underline{lb_f}} & \\color{blue}{m} & \\color{blue}{kg} & \\color{blue}{N} & \\color{blue}{s}\\\\\\frac{127 \\color{blue}{m}}{5000} & \\frac{381 \\color{blue}{m}}{1250} & \\frac{8896443230521 \\color{blue}{kg} \\color{blue}{m}}{2000000000000 \\color{blue}{s}^{2}} & \\color{blue}{m} & \\color{blue}{kg} & \\frac{\\color{blue}{kg} \\color{blue}{m}}{\\color{blue}{s}^{2}} & \\color{blue}{s}\\end{matrix}\\right], \\quad \\left[\\begin{matrix}\\color{blue}{m} & \\color{blue}{m} & \\color{blue}{N} & \\color{blue}{N}\\\\\\frac{5000 \\color{blue}{\\underline{inch}}}{127} & \\frac{1250 \\color{blue}{\\underline{ft}}}{381} & \\frac{2000000000000 \\color{blue}{\\underline{lb_f}}}{8896443230521} & \\frac{2000000000000 \\color{blue}{\\underline{lb_f}}}{8896443230521}\\end{matrix}\\right], \\quad \\left[\\begin{matrix}\\color{blue}{m} & \\color{blue}{m} & \\color{blue}{N} & \\color{blue}{N}\\\\39.3700787401575 \\color{blue}{\\underline{inch}} & 3.28083989501312 \\color{blue}{\\underline{ft}} & 0.22480894309971 \\color{blue}{\\underline{lb_f}} & 0.22480894309971 \\color{blue}{\\underline{lb_f}}\\end{matrix}\\right]\\right )$$"
      ],
      "text/plain": [
       "⎛⎡\\color{blue}{\\underline{inch}}  \\color{blue}{\\underline{ft}}          \\color\n",
       "⎜⎢                                                                            \n",
       "⎜⎢     127⋅\\color{blue}{m}            381⋅\\color{blue}{m}       8896443230521⋅\n",
       "⎜⎢     ───────────────────            ───────────────────       ──────────────\n",
       "⎜⎢             5000                           1250                            \n",
       "⎝⎣                                                                      200000\n",
       "\n",
       "{blue}{\\underline{lb_f}}          \\color{blue}{m}  \\color{blue}{kg}          \\\n",
       "                                                                              \n",
       "\\color{blue}{kg}⋅\\color{blue}{m}                                     \\color{bl\n",
       "────────────────────────────────  \\color{blue}{m}  \\color{blue}{kg}  ─────────\n",
       "                       2                                                      \n",
       "0000000⋅\\color{blue}{s}                                                      \\\n",
       "\n",
       "color{blue}{N}           \\color{blue}{s}⎤, ⎡          \\color{blue}{m}         \n",
       "                                        ⎥  ⎢                                  \n",
       "ue}{kg}⋅\\color{blue}{m}                 ⎥  ⎢5000⋅\\color{blue}{\\underline{inch}\n",
       "───────────────────────  \\color{blue}{s}⎥  ⎢──────────────────────────────────\n",
       "              2                         ⎥  ⎣                127               \n",
       "color{blue}{s}                          ⎦                                     \n",
       "\n",
       "            \\color{blue}{m}                         \\color{blue}{N}           \n",
       "                                                                              \n",
       "}  1250⋅\\color{blue}{\\underline{ft}}  2000000000000⋅\\color{blue}{\\underline{lb\n",
       "─  ─────────────────────────────────  ────────────────────────────────────────\n",
       "                  381                                8896443230521            \n",
       "                                                                              \n",
       "\n",
       "                    \\color{blue}{N}               ⎤, ⎡                \\color{b\n",
       "                                                  ⎥  ⎢                        \n",
       "_f}}  2000000000000⋅\\color{blue}{\\underline{lb_f}}⎥  ⎣39.3700787401575⋅\\color{\n",
       "────  ────────────────────────────────────────────⎥                           \n",
       "                     8896443230521                ⎦                           \n",
       "                                                                              \n",
       "\n",
       "lue}{m}                                 \\color{blue}{m}                       \n",
       "                                                                              \n",
       "blue}{\\underline{inch}}  3.28083989501312⋅\\color{blue}{\\underline{ft}}  0.2248\n",
       "                                                                              \n",
       "                                                                              \n",
       "                                                                              \n",
       "\n",
       "          \\color{blue}{N}                                  \\color{blue}{N}    \n",
       "                                                                              \n",
       "0894309971⋅\\color{blue}{\\underline{lb_f}}  0.22480894309971⋅\\color{blue}{\\unde\n",
       "                                                                              \n",
       "                                                                              \n",
       "                                                                              \n",
       "\n",
       "            ⎤⎞\n",
       "            ⎥⎟\n",
       "rline{lb_f}}⎦⎟\n",
       "             ⎟\n",
       "             ⎟\n",
       "             ⎠"
      ]
     },
     "execution_count": 8,
     "metadata": {},
     "output_type": "execute_result"
    }
   ],
   "source": [
    "myDisp( [[ myu.inch, myu.inch.subs( myu.length('SI') ) ],\n",
    "         [ myu.ft,   myu.ft.subs( myu.length('SI') ) ],\n",
    "         [ myu.lbf,  myu.lbf.subs( myu.force('SI') ) ],\n",
    "         [ myu.m,    myu.meter.subs( myu.length('SI') ) ],\n",
    "         [ myu.kg,   myu.kg.subs( myu.mass('SI') ) ],\n",
    "         [ myu.N,    myu.newton.subs( myu.force('SI') ) ],\n",
    "         [ myu.s,    myu.second.subs( myu.time('SI') ) ]] ), \\\n",
    "myDisp( [myu.length(myu.inch)[-1], \n",
    "         myu.length(myu.foot)[-1],\n",
    "         myu.force(myu.lbf)[-1],\n",
    "         myu.force(myu.lbf)[-1] ]), \\\n",
    "myDisp( [myu.length(myu.inch)[-1], \n",
    "         myu.length(myu.foot)[-1],\n",
    "         myu.force(myu.lbf)[-1],\n",
    "         myu.force(myu.lbf)[-1] ]).evalf()"
   ]
  },
  {
   "cell_type": "code",
   "execution_count": 9,
   "metadata": {},
   "outputs": [
    {
     "data": {
      "text/latex": [
       "$$\\left ( x, \\quad \\dot{x}, \\quad \\ddot{x}, \\quad \\dddot{x}, \\quad \\ddddot{x}, \\quad \\bar{x}, \\quad \\vec{x}, \\quad \\hat{x}, \\quad \\bar{\\bar{A}}, \\quad \\underline{\\underline{A}}, \\quad \\boldsymbol{\\underline{\\underline{A}}}, \\quad [A], \\quad \\boldsymbol{[A]}\\right )$$"
      ],
      "text/plain": [
       "(x, ẋ, ẍ, ẍ̇, ẍ̈, x̅, x⃗, x̂, A̅̅, \\underline{\\underline{A}}, \\boldsymbol{\n",
       "\\underline{\\underline{A}}}, [A], [A]bm)"
      ]
     },
     "execution_count": 9,
     "metadata": {},
     "output_type": "execute_result"
    }
   ],
   "source": [
    "# accepted_latex_functions = ['arcsin', 'arccos', 'arctan', 'sin', 'cos', 'tan',\n",
    "#                    'sinh', 'cosh', 'tanh', 'sqrt', 'ln', 'log', 'sec', 'csc',\n",
    "#                    'cot', 'coth', 're', 'im', 'frac', 'root', 'arg']\n",
    "\n",
    "# Variable name modifiers\n",
    "    # Accents\n",
    "##    'mathring': lambda s: r'\\mathring{'+s+r'}',\n",
    "##    'ddddot': lambda s: r'\\ddddot{'+s+r'}',\n",
    "##    'dddot': lambda s: r'\\dddot{'+s+r'}',\n",
    "##    'ddot': lambda s: r'\\ddot{'+s+r'}',\n",
    "##    'dot': lambda s: r'\\dot{'+s+r'}',\n",
    "##    'check': lambda s: r'\\check{'+s+r'}',\n",
    "##    'breve': lambda s: r'\\breve{'+s+r'}',\n",
    "##    'acute': lambda s: r'\\acute{'+s+r'}',\n",
    "##    'grave': lambda s: r'\\grave{'+s+r'}',\n",
    "##    'tilde': lambda s: r'\\tilde{'+s+r'}',\n",
    "##    'hat': lambda s: r'\\hat{'+s+r'}',\n",
    "##    'bar': lambda s: r'\\bar{'+s+r'}',\n",
    "##    'vec': lambda s: r'\\vec{'+s+r'}',\n",
    "##    'prime': lambda s: \"{\"+s+\"}'\",\n",
    "##    'prm': lambda s: \"{\"+s+\"}'\",\n",
    "def duline(s): return r'\\underline{\\underline{' + s + r'}}'\n",
    "def dulinebold(s): return r'\\boldsymbol{\\underline{\\underline{' + s + r'}}}'\n",
    "    # Faces\n",
    "##    'bold': lambda s: r'\\boldsymbol{'+s+r'}',\n",
    "##    'bm': lambda s: r'\\boldsymbol{'+s+r'}',\n",
    "##    'cal': lambda s: r'\\mathcal{'+s+r'}',\n",
    "##    'scr': lambda s: r'\\mathscr{'+s+r'}',\n",
    "##    'frak': lambda s: r'\\mathfrak{'+s+r'}',\n",
    "    # Brackets\n",
    "##    'norm': lambda s: r'\\left\\lVert{'+s+r'}\\right\\rVert',\n",
    "##    'avg': lambda s: r'\\left\\langle{'+s+r'}\\right\\rangle',\n",
    "##    'abs': lambda s: r'\\left\\lvert{'+s+r'}\\right\\rvert',\n",
    "##    'mag': lambda s: r'\\left\\lvert{'+s+r'}\\right\\rvert',\n",
    "def mat(s): return r'[' + s + r']'\n",
    "def matbm(s): return r'[' + s + r']bm'\n",
    "\n",
    "x, xd, xdd, xddd, x4d, xb, xv, xh = symbols( 'x, xdot, xddot, xdddot, xddddot, xbar, xvec, xhat' )\n",
    "Abb, Auu, Abuu, Amat, Amatbm = symbols( 'Abarbar, ' + duline('A') + ', ' + dulinebold('A') + ', ' + mat('A') + ', ' + matbm('A') )\n",
    "x, xd, xdd, xddd, x4d, xb, xv, xh, Abb, Auu, Abuu, Amat, Amatbm"
   ]
  },
  {
   "cell_type": "code",
   "execution_count": 10,
   "metadata": {},
   "outputs": [
    {
     "data": {
      "text/latex": [
       "$$\\left ( \\mathring{\\alpha}, \\quad \\check{\\beta}, \\quad \\breve{\\gamma}, \\quad \\acute{\\delta}, \\quad \\grave{\\epsilon}, \\quad \\tilde{\\zeta}, \\quad {\\eta}', \\quad {\\theta}'\\right )$$"
      ],
      "text/plain": [
       "(α̊, β̌, γ̆, δ́, ὲ, ζ̃, η′, θ′)"
      ]
     },
     "execution_count": 10,
     "metadata": {},
     "output_type": "execute_result"
    }
   ],
   "source": [
    "a_mr, b_ch, g_breve, d_acute, e_grave = symbols( 'alphamathring, betacheck, gammabreve, deltaacute, epsilongrave' )\n",
    "z_tilde, eta_prime, th_prm = symbols( 'zetatilde, etaprime, thetaprm' )\n",
    "a_mr, b_ch, g_breve, d_acute, e_grave, z_tilde, eta_prime, th_prm"
   ]
  },
  {
   "cell_type": "code",
   "execution_count": 11,
   "metadata": {},
   "outputs": [
    {
     "data": {
      "text/latex": [
       "$$\\left[\\begin{matrix}A & B & C & L & \\Sigma & \\sigma\\\\\\boldsymbol{A} & \\boldsymbol{B} & \\boldsymbol{C} & \\boldsymbol{L} & \\boldsymbol{\\Sigma} & \\boldsymbol{\\sigma}\\\\\\mathcal{A} & \\mathcal{B} & \\mathcal{C} & \\mathcal{L} & \\mathcal{\\Sigma} & \\mathcal{\\sigma}\\\\\\mathscr{A} & \\mathscr{B} & \\mathscr{C} & \\mathscr{L} & \\mathscr{\\Sigma} & \\mathscr{\\sigma}\\\\\\mathfrak{A} & \\mathfrak{B} & \\mathfrak{C} & \\mathfrak{L} & \\mathfrak{\\Sigma} & \\mathfrak{\\sigma}\\end{matrix}\\right]$$"
      ],
      "text/plain": [
       "⎡  A      B      C      L        Σ          σ    ⎤\n",
       "⎢                                                ⎥\n",
       "⎢Abold  Bbold  Cbold  Lbold  Sigmabold  sigmabold⎥\n",
       "⎢                                                ⎥\n",
       "⎢Acal   Bcal   Ccal   Lcal   Sigmacal   sigmacal ⎥\n",
       "⎢                                                ⎥\n",
       "⎢Ascr   Bscr   Cscr   Lscr   Sigmascr   sigmascr ⎥\n",
       "⎢                                                ⎥\n",
       "⎣Afrak  Bfrak  Cfrak  Lfrak  Sigmafrak  sigmafrak⎦"
      ]
     },
     "execution_count": 11,
     "metadata": {},
     "output_type": "execute_result"
    }
   ],
   "source": [
    "myDisp([symbols( i + ', ' + i + 'bold, ' + i + 'cal, ' + i + 'scr, ' + i + 'frak' ) for i in ('A', 'B', 'C', 'L', 'Sigma', 'sigma')])"
   ]
  },
  {
   "cell_type": "code",
   "execution_count": 12,
   "metadata": {},
   "outputs": [
    {
     "data": {
      "text/latex": [
       "$$\\left ( \\left\\|{\\mu}\\right\\|, \\quad \\left\\langle{\\nu}\\right\\rangle, \\quad \\left|{\\xi}\\right|, \\quad \\left|{\\rho}\\right|\\right )$$"
      ],
      "text/plain": [
       "(‖μ‖, ⟨ν⟩, |ξ|, |ρ|)"
      ]
     },
     "execution_count": 12,
     "metadata": {},
     "output_type": "execute_result"
    }
   ],
   "source": [
    "mu_norm, nu_avg, xi_abs, rho_mag = symbols( 'munorm, nuavg, xiabs, rhomag' )\n",
    "mu_norm, nu_avg, xi_abs, rho_mag"
   ]
  },
  {
   "cell_type": "code",
   "execution_count": 13,
   "metadata": {},
   "outputs": [
    {
     "data": {
      "text/latex": [
       "$$\\left ( \\underline{hello}, \\quad \\imathhatbm_1, \\quad \\mathbb{R}__3, \\quad \\mathbb{A}, \\quad \\gimel^{\\mho}_{\\eth}, \\quad {__2_}\\gimel{__\\mho_\\eth}\\right )$$"
      ],
      "text/plain": [
       "(\\underline{hello}, \\imathhatbm₁, \\mathbb{R}³, \\mathbb{A}, gimel_eth__mho, {_}\n",
       "\\gimel{_\\eth}__2__\\mho)"
      ]
     },
     "execution_count": 13,
     "metadata": {},
     "output_type": "execute_result"
    }
   ],
   "source": [
    "hello, ihat_1, R3, AA = symbols( r'\\underline{hello}, \\imathhatbm_1, \\mathbb{R}__3, \\mathbb{A}' )\n",
    "gim1, gim2 = symbols(r' gimel__mho_eth {__2_}\\gimel{__\\mho_\\eth}')\n",
    "hello, ihat_1, R3, AA, gim1, gim2"
   ]
  },
  {
   "cell_type": "code",
   "execution_count": 14,
   "metadata": {},
   "outputs": [
    {
     "data": {
      "text/latex": [
       "$$\\left[\\begin{matrix}\\pi\\\\\\tau\\\\2 \\pi\\\\6.28318530717959\\\\6.2832\\\\6.28319\\end{matrix}\\right]$$"
      ],
      "text/plain": [
       "⎡       π        ⎤\n",
       "⎢                ⎥\n",
       "⎢       τ        ⎥\n",
       "⎢                ⎥\n",
       "⎢      2⋅π       ⎥\n",
       "⎢                ⎥\n",
       "⎢6.28318530717959⎥\n",
       "⎢                ⎥\n",
       "⎢     6.2832     ⎥\n",
       "⎢                ⎥\n",
       "⎣    6.28319     ⎦"
      ]
     },
     "execution_count": 14,
     "metadata": {},
     "output_type": "execute_result"
    }
   ],
   "source": [
    "from sympy import pi\n",
    "tau, theta, phi = symbols( 'tau, theta, phi' )\n",
    "tau_ = 2*pi\n",
    "tauf = sym.N(tau_)\n",
    "myDisp([[pi, tau, tau_, tauf, sym.N(tauf, 5), tauf.evalf(6)]])"
   ]
  },
  {
   "cell_type": "code",
   "execution_count": 15,
   "metadata": {},
   "outputs": [
    {
     "data": {
      "text/latex": [
       "$$\\left ( \\left[\\begin{matrix}\\imathhatbm & \\jmathhatbm & \\boldsymbol{\\hat{k}}\\\\1 & 0 & 0\\end{matrix}\\right], \\quad \\left[\\begin{matrix}\\imathhatbm & \\jmathhatbm & \\boldsymbol{\\hat{k}}\\\\0 & 1 & 0\\end{matrix}\\right], \\quad \\left[\\begin{matrix}\\imathhatbm & \\jmathhatbm & \\boldsymbol{\\hat{k}}\\\\0 & 0 & 1\\end{matrix}\\right], \\quad \\imathhatbm \\theta + \\jmathhatbm \\phi, \\quad \\left[\\begin{matrix}\\theta\\\\\\phi\\\\0\\end{matrix}\\right], \\quad \\imathhatbm \\theta + \\jmathhatbm \\phi\\right )$$"
      ],
      "text/plain": [
       "⎛⎡\\imathhatbm  \\jmathhatbm  khatbm⎤, ⎡\\imathhatbm  \\jmathhatbm  khatbm⎤, ⎡\\ima\n",
       "⎜⎢                                ⎥  ⎢                                ⎥  ⎢    \n",
       "⎜⎣     1            0         0   ⎦  ⎣     0            1         0   ⎦  ⎣    \n",
       "⎜                                                                             \n",
       "⎝                                                                             \n",
       "\n",
       "thhatbm  \\jmathhatbm  khatbm⎤, \\imathhatbm⋅θ + \\jmathhatbm⋅φ, ⎡θ⎤, \\imathhatbm\n",
       "                            ⎥                                 ⎢ ⎥             \n",
       " 0            0         1   ⎦                                 ⎢φ⎥             \n",
       "                                                              ⎢ ⎥             \n",
       "                                                              ⎣0⎦             \n",
       "\n",
       "⋅θ + \\jmathhatbm⋅φ⎞\n",
       "                  ⎟\n",
       "                  ⎟\n",
       "                  ⎟\n",
       "                  ⎠"
      ]
     },
     "execution_count": 15,
     "metadata": {},
     "output_type": "execute_result"
    }
   ],
   "source": [
    "ihat, jhat, khat = symbols( '\\imathhatbm, \\jmathhatbm, khatbm' ) #xxxbm --> boldmath{xxx}, see latex_ex docs\n",
    "ivec = ((ihat, 1), (jhat, 0), (khat, 0))\n",
    "jvec = ((ihat, 0), (jhat, 1), (khat, 0))\n",
    "kvec = ((ihat, 0), (jhat, 0), (khat, 1))\n",
    "def vectorize(s): return Matrix([s.subs(ivec), s.subs(jvec), s.subs(kvec)])\n",
    "def devectorize(s): return s[0]*ihat + s[1]*jhat + s[2]*khat\n",
    "\n",
    "sca = theta*ihat + phi*jhat\n",
    "vec = vectorize(sca)\n",
    "sca1 = devectorize(vec)\n",
    "myDisp(ivec), myDisp(jvec), myDisp(kvec), sca, vec, sca1"
   ]
  },
  {
   "cell_type": "markdown",
   "metadata": {},
   "source": [
    "# Decorate/Undecorate to get proper display"
   ]
  },
  {
   "cell_type": "raw",
   "metadata": {},
   "source": [
    "What about 'evaluate=False'?\n",
    "https://github.com/sympy/sympy/wiki/Faq#how-can-i-get-sympy-to-not-change-what-i-enter"
   ]
  },
  {
   "cell_type": "code",
   "execution_count": 16,
   "metadata": {},
   "outputs": [
    {
     "data": {
      "text/latex": [
       "$$6 \\imathhatbm m x$$"
      ],
      "text/plain": [
       "6⋅\\imathhatbm⋅m⋅x"
      ]
     },
     "execution_count": 16,
     "metadata": {},
     "output_type": "execute_result"
    }
   ],
   "source": [
    "x, m, i = symbols( r'x, m, \\imathhatbm' )\n",
    "e = 6*x*m*i\n",
    "e"
   ]
  },
  {
   "cell_type": "code",
   "execution_count": 17,
   "metadata": {},
   "outputs": [
    {
     "data": {
      "text/latex": [
       "$$6 ax ym z\\imathhatbm$$"
      ],
      "text/plain": [
       "6⋅ax⋅ym⋅z\\imathhatbm"
      ]
     },
     "execution_count": 17,
     "metadata": {},
     "output_type": "execute_result"
    }
   ],
   "source": [
    "x, m, i = symbols( 'ax, ym, z\\imathhatbm' )\n",
    "unDecorate = {x: r'x', m: r'm', i: r'\\boldsymbol{\\hat{\\imath}}'}\n",
    "#print(unDecorate)\n",
    "\n",
    "e = 6*x*m*i\n",
    "e"
   ]
  },
  {
   "cell_type": "code",
   "execution_count": 18,
   "metadata": {},
   "outputs": [
    {
     "data": {
      "text/latex": [
       "$$ 6 ax ym z\\imathhatbm $$"
      ],
      "text/plain": [
       "<IPython.core.display.Latex object>"
      ]
     },
     "execution_count": 18,
     "metadata": {},
     "output_type": "execute_result"
    }
   ],
   "source": [
    "from IPython.display import Latex\n",
    "f = Latex( r\"\"\"$$ \"\"\" + sym.latex(e) + r\"\"\" $$\"\"\" )\n",
    "f"
   ]
  },
  {
   "cell_type": "code",
   "execution_count": 19,
   "metadata": {},
   "outputs": [
    {
     "data": {
      "text/latex": [
       "$$ 6 x m \\boldsymbol{\\hat{\\imath}} $$"
      ],
      "text/plain": [
       "<IPython.core.display.Latex object>"
      ]
     },
     "execution_count": 19,
     "metadata": {},
     "output_type": "execute_result"
    }
   ],
   "source": [
    "g = Latex( r\"\"\"$$ \"\"\" + sym.latex(e, symbol_names=unDecorate) + r\"\"\" $$\"\"\" )\n",
    "g"
   ]
  },
  {
   "cell_type": "code",
   "execution_count": null,
   "metadata": {
    "collapsed": true
   },
   "outputs": [],
   "source": []
  },
  {
   "cell_type": "markdown",
   "metadata": {},
   "source": [
    "# Sympy Plotting"
   ]
  },
  {
   "cell_type": "code",
   "execution_count": 20,
   "metadata": {},
   "outputs": [
    {
     "data": {
      "image/png": "[encoded data removed]",
      "text/plain": [
       "<matplotlib.figure.Figure at 0x8130710>"
      ]
     },
     "metadata": {},
     "output_type": "display_data"
    },
    {
     "data": {
      "image/png": "[encoded data removed]",
      "text/plain": [
       "<matplotlib.figure.Figure at 0x97b39b0>"
      ]
     },
     "metadata": {},
     "output_type": "display_data"
    },
    {
     "data": {
      "text/plain": [
       "<sympy.plotting.plot.Plot at 0x8130828>"
      ]
     },
     "execution_count": 20,
     "metadata": {},
     "output_type": "execute_result"
    }
   ],
   "source": [
    "from sympy import sin, cos, pi\n",
    "from sympy.plotting import plot, plot_parametric\n",
    "from myUnits import Ξ, rad, deg, Deg, Rad\n",
    "p1 = plot( sin(theta), (theta, -pi, 2*Ξ[rad]) )\n",
    "p2 = plot( cos(theta), (theta, -pi, 2*myu.Ξ[myu.rad]) )\n",
    "p1.extend(p2)\n",
    "p1"
   ]
  },
  {
   "cell_type": "code",
   "execution_count": 21,
   "metadata": {},
   "outputs": [
    {
     "data": {
      "image/png": "[encoded data removed]",
      "text/plain": [
       "<matplotlib.figure.Figure at 0x8130b38>"
      ]
     },
     "metadata": {},
     "output_type": "display_data"
    },
    {
     "data": {
      "text/plain": [
       "<sympy.plotting.plot.Plot at 0x8130cf8>"
      ]
     },
     "execution_count": 21,
     "metadata": {},
     "output_type": "execute_result"
    }
   ],
   "source": [
    "plot_parametric( sin(phi), cos(phi), (phi, -120*Deg, 105*Deg)) # Deg from myUnits"
   ]
  },
  {
   "cell_type": "code",
   "execution_count": null,
   "metadata": {
    "collapsed": true
   },
   "outputs": [],
   "source": []
  },
  {
   "cell_type": "markdown",
   "metadata": {},
   "source": [
    "# OS/Software/Code Versions"
   ]
  },
  {
   "cell_type": "code",
   "execution_count": 22,
   "metadata": {},
   "outputs": [
    {
     "name": "stderr",
     "output_type": "stream",
     "text": [
      "ERROR:root:Line magic function `%install_ext` not found.\n"
     ]
    },
    {
     "data": {
      "application/json": {
       "Software versions": [
        {
         "module": "Python",
         "version": "3.6.1 64bit [MSC v.1900 64 bit (AMD64)]"
        },
        {
         "module": "IPython",
         "version": "5.3.0"
        },
        {
         "module": "OS",
         "version": "Windows 7 6.1.7601 SP1"
        },
        {
         "module": "sympy",
         "version": "1.0"
        },
        {
         "module": "myUnits",
         "version": "v0.092_2017.07.30"
        }
       ]
      },
      "text/html": [
       "<table><tr><th>Software</th><th>Version</th></tr><tr><td>Python</td><td>3.6.1 64bit [MSC v.1900 64 bit (AMD64)]</td></tr><tr><td>IPython</td><td>5.3.0</td></tr><tr><td>OS</td><td>Windows 7 6.1.7601 SP1</td></tr><tr><td>sympy</td><td>1.0</td></tr><tr><td>myUnits</td><td>v0.092_2017.07.30</td></tr><tr><td colspan='2'>Sun Aug 06 16:12:46 2017 Central Daylight Time</td></tr></table>"
      ],
      "text/latex": [
       "\\begin{tabular}{|l|l|}\\hline\n",
       "{\\bf Software} & {\\bf Version} \\\\ \\hline\\hline\n",
       "Python & 3.6.1 64bit [MSC v.1900 64 bit (AMD64)] \\\\ \\hline\n",
       "IPython & 5.3.0 \\\\ \\hline\n",
       "OS & Windows 7 6.1.7601 SP1 \\\\ \\hline\n",
       "sympy & 1.0 \\\\ \\hline\n",
       "myUnits & v0.092\\_2017.07.30 \\\\ \\hline\n",
       "\\hline \\multicolumn{2}{|l|}{Sun Aug 06 16:12:46 2017 Central Daylight Time} \\\\ \\hline\n",
       "\\end{tabular}\n"
      ],
      "text/plain": [
       "Software versions\n",
       "Python 3.6.1 64bit [MSC v.1900 64 bit (AMD64)]\n",
       "IPython 5.3.0\n",
       "OS Windows 7 6.1.7601 SP1\n",
       "sympy 1.0\n",
       "myUnits v0.092_2017.07.30\n",
       "Sun Aug 06 16:12:46 2017 Central Daylight Time"
      ]
     },
     "execution_count": 22,
     "metadata": {},
     "output_type": "execute_result"
    }
   ],
   "source": [
    "#%install_ext https://raw.githubusercontent.com/jrjohansson/version_information/master/version_information.py\n",
    "%install_ext version_information.py\n",
    "%load_ext version_information\n",
    "%version_information sympy, myUnits"
   ]
  },
  {
   "cell_type": "code",
   "execution_count": null,
   "metadata": {
    "collapsed": true
   },
   "outputs": [],
   "source": []
  }
 ],
 "metadata": {
  "kernelspec": {
   "display_name": "Python 3",
   "language": "python",
   "name": "python3"
  },
  "language_info": {
   "codemirror_mode": {
    "name": "ipython",
    "version": 3
   },
   "file_extension": ".py",
   "mimetype": "text/x-python",
   "name": "python",
   "nbconvert_exporter": "python",
   "pygments_lexer": "ipython3",
   "version": "3.6.1"
  }
 },
 "nbformat": 4,
 "nbformat_minor": 1
}
